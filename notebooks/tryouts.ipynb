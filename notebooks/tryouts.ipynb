{
 "cells": [
  {
   "cell_type": "code",
   "execution_count": 1,
   "id": "e0cdb937-bbcf-4e6e-ad56-2b3c7af36d6a",
   "metadata": {},
   "outputs": [],
   "source": [
    "import numpy as np"
   ]
  },
  {
   "cell_type": "code",
   "execution_count": 3,
   "id": "b247a938-5d8b-4854-9a84-09d74b01e5ab",
   "metadata": {},
   "outputs": [
    {
     "data": {
      "text/plain": [
       "(1, 4)"
      ]
     },
     "execution_count": 3,
     "metadata": {},
     "output_type": "execute_result"
    }
   ],
   "source": [
    "a = np.array([[1, 2, 3, 4]])\n",
    "a.shape"
   ]
  },
  {
   "cell_type": "code",
   "execution_count": 13,
   "id": "e2f182e0-25d5-48a7-a620-cd377df8d8e2",
   "metadata": {},
   "outputs": [
    {
     "data": {
      "text/plain": [
       "(1, 4)"
      ]
     },
     "execution_count": 13,
     "metadata": {},
     "output_type": "execute_result"
    }
   ],
   "source": [
    "np.transpose(a)\n",
    "a.shape"
   ]
  },
  {
   "cell_type": "code",
   "execution_count": 17,
   "id": "df295db3-d0f0-430d-807a-a32c4e5ae629",
   "metadata": {},
   "outputs": [
    {
     "ename": "TypeError",
     "evalue": "'tuple' object cannot be interpreted as an integer",
     "output_type": "error",
     "traceback": [
      "\u001b[1;31m---------------------------------------------------------------------------\u001b[0m",
      "\u001b[1;31mTypeError\u001b[0m                                 Traceback (most recent call last)",
      "Cell \u001b[1;32mIn[17], line 1\u001b[0m\n\u001b[1;32m----> 1\u001b[0m np\u001b[38;5;241m.\u001b[39mrandom\u001b[38;5;241m.\u001b[39mrand((\u001b[38;5;241m5\u001b[39m,\u001b[38;5;241m1\u001b[39m))\n",
      "File \u001b[1;32mnumpy\\\\random\\\\mtrand.pyx:1219\u001b[0m, in \u001b[0;36mnumpy.random.mtrand.RandomState.rand\u001b[1;34m()\u001b[0m\n",
      "File \u001b[1;32mnumpy\\\\random\\\\mtrand.pyx:437\u001b[0m, in \u001b[0;36mnumpy.random.mtrand.RandomState.random_sample\u001b[1;34m()\u001b[0m\n",
      "File \u001b[1;32m_common.pyx:307\u001b[0m, in \u001b[0;36mnumpy.random._common.double_fill\u001b[1;34m()\u001b[0m\n",
      "\u001b[1;31mTypeError\u001b[0m: 'tuple' object cannot be interpreted as an integer"
     ]
    }
   ],
   "source": [
    "np.random.rand((5,1))"
   ]
  },
  {
   "cell_type": "code",
   "execution_count": 27,
   "id": "2c9d54ec-350c-4fc3-ad06-7ab5f522045b",
   "metadata": {},
   "outputs": [
    {
     "data": {
      "text/plain": [
       "array([[0.4503096 ],\n",
       "       [0.10242804],\n",
       "       [0.8576796 ],\n",
       "       [0.79179928],\n",
       "       [0.19249653]])"
      ]
     },
     "execution_count": 27,
     "metadata": {},
     "output_type": "execute_result"
    }
   ],
   "source": [
    "w = np.random.random((4,1))\n",
    "w"
   ]
  },
  {
   "cell_type": "code",
   "execution_count": 35,
   "id": "b69ad4e6-54bf-4dfd-b017-463f3a159c71",
   "metadata": {},
   "outputs": [
    {
     "data": {
      "text/plain": [
       "array([[0.50913051, 0.87282498, 0.68686952, 0.55054913, 0.8108169 ],\n",
       "       [0.21711843, 0.70533828, 0.18692039, 0.53101122, 0.3793459 ],\n",
       "       [0.8798491 , 0.17547447, 0.45921515, 0.34105122, 0.70382682],\n",
       "       [0.39430571, 0.85439604, 0.5195344 , 0.56880142, 0.70613525]])"
      ]
     },
     "execution_count": 35,
     "metadata": {},
     "output_type": "execute_result"
    }
   ],
   "source": [
    "x = np.random.random((4,5))\n",
    "x"
   ]
  },
  {
   "cell_type": "code",
   "execution_count": 45,
   "id": "7d45d475-3e24-477b-a43a-d66c57c7b8ed",
   "metadata": {},
   "outputs": [
    {
     "data": {
      "text/plain": [
       "array([[0.4503096 , 0.10242804, 0.8576796 , 0.79179928, 0.19249653]])"
      ]
     },
     "execution_count": 45,
     "metadata": {},
     "output_type": "execute_result"
    }
   ],
   "source": [
    "w1 = np.transpose(w)\n",
    "w1"
   ]
  },
  {
   "cell_type": "code",
   "execution_count": 43,
   "id": "4e7a5cc3-10a0-4dbd-8713-165bd7527dbd",
   "metadata": {},
   "outputs": [
    {
     "data": {
      "text/plain": [
       "array([[0.22926635, 0.08940175, 0.58911398, 0.4359244 , 0.15607944],\n",
       "       [0.09777051, 0.07224642, 0.16031781, 0.4204543 , 0.07302277],\n",
       "       [0.39620449, 0.01797351, 0.39385947, 0.27004411, 0.13548422],\n",
       "       [0.17755965, 0.08751411, 0.44559406, 0.45037655, 0.13592859]])"
      ]
     },
     "execution_count": 43,
     "metadata": {},
     "output_type": "execute_result"
    }
   ],
   "source": [
    "w1 * x"
   ]
  },
  {
   "cell_type": "code",
   "execution_count": null,
   "id": "6029a871-3c55-4a7b-b2d6-75c8656ca6af",
   "metadata": {},
   "outputs": [],
   "source": []
  }
 ],
 "metadata": {
  "kernelspec": {
   "display_name": "Python 3 (ipykernel)",
   "language": "python",
   "name": "python3"
  },
  "language_info": {
   "codemirror_mode": {
    "name": "ipython",
    "version": 3
   },
   "file_extension": ".py",
   "mimetype": "text/x-python",
   "name": "python",
   "nbconvert_exporter": "python",
   "pygments_lexer": "ipython3",
   "version": "3.12.4"
  }
 },
 "nbformat": 4,
 "nbformat_minor": 5
}
